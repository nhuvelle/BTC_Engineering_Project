{
 "cells": [
  {
   "cell_type": "markdown",
   "id": "d5fdbcff",
   "metadata": {},
   "source": [
    "# Bitcoin Engineering Project Proposal\n",
    "\n",
    "For my project I plan to create a user facing dashboard or app that displays visualizations and statistics related to the Bitcoin blockchain. Something similar to [this](https://mempool.space) but almost certianly simpler.\n",
    "\n",
    "In order to do this I will need to download, run, and query the bitcoin blockchain. The bitcoin blockchain is a massive dataset, being roughly 350GB in total. If I were starting from scratch it might take me several days to download the entire thing, but since I have run the software in the past, I should be able to sync up in a few hours. \n",
    "\n",
    "From there I will use an API to query the blockchain and build a pipeline to my website or app to display live statistics. I'm not sure how broad the scope of this project will be but I hope to at least create a pipeline that collects and displays stastics such as the current block height and number of transactions in each block.\n",
    "\n"
   ]
  },
  {
   "cell_type": "code",
   "execution_count": null,
   "id": "3822b4b5",
   "metadata": {},
   "outputs": [],
   "source": []
  }
 ],
 "metadata": {
  "kernelspec": {
   "display_name": "Python 3",
   "language": "python",
   "name": "python3"
  },
  "language_info": {
   "codemirror_mode": {
    "name": "ipython",
    "version": 3
   },
   "file_extension": ".py",
   "mimetype": "text/x-python",
   "name": "python",
   "nbconvert_exporter": "python",
   "pygments_lexer": "ipython3",
   "version": "3.8.8"
  }
 },
 "nbformat": 4,
 "nbformat_minor": 5
}
